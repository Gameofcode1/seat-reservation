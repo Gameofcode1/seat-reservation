{
 "cells": [
  {
   "cell_type": "code",
   "execution_count": null,
   "metadata": {},
   "outputs": [
    {
     "name": "stdout",
     "output_type": "stream",
     "text": [
      "enter number  a1\n",
      "enter num b2\n",
      "enter num b2\n",
      "enter num b2\n",
      "enter num b2\n",
      "enter number  a3\n",
      "enter num b1\n",
      "enter num b1\n",
      "enter num b1\n",
      "enter num b1\n"
     ]
    }
   ],
   "source": [
    "for i in range(4):\n",
    "    input(\"enter number  a\")\n",
    "    \n",
    "    for i in range(4):\n",
    "        input (\"enter num b\")\n",
    "        \n",
    "    \n"
   ]
  },
  {
   "cell_type": "code",
   "execution_count": null,
   "metadata": {},
   "outputs": [],
   "source": []
  }
 ],
 "metadata": {
  "kernelspec": {
   "display_name": "Python 3",
   "language": "python",
   "name": "python3"
  },
  "language_info": {
   "codemirror_mode": {
    "name": "ipython",
    "version": 3
   },
   "file_extension": ".py",
   "mimetype": "text/x-python",
   "name": "python",
   "nbconvert_exporter": "python",
   "pygments_lexer": "ipython3",
   "version": "3.7.4"
  }
 },
 "nbformat": 4,
 "nbformat_minor": 2
}
